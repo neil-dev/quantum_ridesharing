{
 "cells": [
  {
   "cell_type": "code",
   "execution_count": 4,
   "id": "a45b707c",
   "metadata": {},
   "outputs": [],
   "source": [
    "import numpy as np\n",
    "import utility\n",
    "\n",
    "from full_qubo_solver import FullQuboSolver"
   ]
  },
  {
   "cell_type": "code",
   "execution_count": 6,
   "id": "ff4d0f61",
   "metadata": {},
   "outputs": [],
   "source": [
    "n = 5\n",
    "m = 2\n",
    "seed = 1543"
   ]
  },
  {
   "cell_type": "code",
   "execution_count": 7,
   "id": "7507d457",
   "metadata": {},
   "outputs": [],
   "source": [
    "instance, xc, yc = utility.generate_vrp_instance(n, seed)"
   ]
  },
  {
   "cell_type": "code",
   "execution_count": 8,
   "id": "8018546a",
   "metadata": {},
   "outputs": [
    {
     "name": "stdout",
     "output_type": "stream",
     "text": [
      "[[ 0.          4.27004888  3.03023376 26.01875627  6.82521534 10.89540557]\n",
      " [ 4.27004888  0.         11.34000725 50.87753159  1.37726708 28.08723873]\n",
      " [ 3.03023376 11.34000725  0.         16.15307858 17.73198146  4.76500506]\n",
      " [26.01875627 50.87753159 16.15307858  0.         58.76742563  3.44295045]\n",
      " [ 6.82521534  1.37726708 17.73198146 58.76742563  0.         34.83384593]\n",
      " [10.89540557 28.08723873  4.76500506  3.44295045 34.83384593  0.        ]]\n",
      "[ 0.51003914  2.55963937 -0.64283509 -4.57068577  2.98724481 -2.72584275]\n",
      "[ 1.05534574  0.79231007 -0.24892217  0.60258683  1.88520561  0.40382905]\n"
     ]
    }
   ],
   "source": [
    "print(instance)\n",
    "print(xc)\n",
    "print(yc)"
   ]
  },
  {
   "cell_type": "code",
   "execution_count": 9,
   "id": "d49d68ef",
   "metadata": {},
   "outputs": [
    {
     "name": "stdout",
     "output_type": "stream",
     "text": [
      "[[['x.1.0.1' 'x.1.0.2' 'x.1.0.3' 'x.1.0.4' 'x.1.0.5']\n",
      "  ['x.1.1.1' 'x.1.1.2' 'x.1.1.3' 'x.1.1.4' 'x.1.1.5']\n",
      "  ['x.1.2.1' 'x.1.2.2' 'x.1.2.3' 'x.1.2.4' 'x.1.2.5']\n",
      "  ['x.1.3.1' 'x.1.3.2' 'x.1.3.3' 'x.1.3.4' 'x.1.3.5']\n",
      "  ['x.1.4.1' 'x.1.4.2' 'x.1.4.3' 'x.1.4.4' 'x.1.4.5']\n",
      "  ['x.1.5.1' 'x.1.5.2' 'x.1.5.3' 'x.1.5.4' 'x.1.5.5']]\n",
      "\n",
      " [['x.2.0.1' 'x.2.0.2' 'x.2.0.3' 'x.2.0.4' 'x.2.0.5']\n",
      "  ['x.2.1.1' 'x.2.1.2' 'x.2.1.3' 'x.2.1.4' 'x.2.1.5']\n",
      "  ['x.2.2.1' 'x.2.2.2' 'x.2.2.3' 'x.2.2.4' 'x.2.2.5']\n",
      "  ['x.2.3.1' 'x.2.3.2' 'x.2.3.3' 'x.2.3.4' 'x.2.3.5']\n",
      "  ['x.2.4.1' 'x.2.4.2' 'x.2.4.3' 'x.2.4.4' 'x.2.4.5']\n",
      "  ['x.2.5.1' 'x.2.5.2' 'x.2.5.3' 'x.2.5.4' 'x.2.5.5']]]\n",
      "x.2.2.4\n"
     ]
    }
   ],
   "source": [
    "variables = np.array([[['x.{}.{}.{}'.format(i, j, k) for k in range(1, n + 1)]\n",
    "                                    for j in range(n + 1)] for i in range(1, m + 1)])\n",
    "print(variables)\n",
    "print(variables[1,2,3])"
   ]
  },
  {
   "cell_type": "code",
   "execution_count": 10,
   "id": "2352ea50",
   "metadata": {},
   "outputs": [
    {
     "name": "stdout",
     "output_type": "stream",
     "text": [
      "{'x.1.1.1': 4.270048879604721, 'x.1.2.1': 3.0302337646881803, 'x.1.3.1': 26.018756268033645, 'x.1.4.1': 6.825215339954393, 'x.1.5.1': 10.895405571795322, 'x.2.1.1': 4.270048879604721, 'x.2.2.1': 3.0302337646881803, 'x.2.3.1': 26.018756268033645, 'x.2.4.1': 6.825215339954393, 'x.2.5.1': 10.895405571795322}\n",
      "{'x.1.1.5': 4.270048879604721, 'x.1.2.5': 3.0302337646881803, 'x.1.3.5': 26.018756268033645, 'x.1.4.5': 6.825215339954393, 'x.1.5.5': 10.895405571795322, 'x.2.1.5': 4.270048879604721, 'x.2.2.5': 3.0302337646881803, 'x.2.3.5': 26.018756268033645, 'x.2.4.5': 6.825215339954393, 'x.2.5.5': 10.895405571795322}\n"
     ]
    }
   ],
   "source": [
    "obj_linear_a = {variables[a, b, 0]: instance[0, b] for a in range(m) for b in range(1, n + 1)}\n",
    "obj_linear_b = {variables[a, b, -1]: instance[b, 0] for a in range(m) for b in range(1, n + 1)}\n",
    "print(obj_linear_a)\n",
    "print(obj_linear_b)"
   ]
  },
  {
   "cell_type": "code",
   "execution_count": 11,
   "id": "d24acb61",
   "metadata": {},
   "outputs": [
    {
     "name": "stdout",
     "output_type": "stream",
     "text": [
      "[ 0.          6.43241656 16.69978647 20.12269467 -3.61770134 -6.82327267]\n",
      "[  0.           8.39446242  11.81623964  -4.18122191 -15.49502894\n",
      "  -1.38858935]\n"
     ]
    }
   ],
   "source": [
    "center = (22.549134075168105, 88.35608616688717)\n",
    "locs = [\n",
    "    (22.565923, 88.368951),\n",
    "    (22.57276655444997, 88.38948573982795),\n",
    "    (22.54077163135614, 88.3963315562282),\n",
    "    (22.518144017282523, 88.34885076420595),\n",
    "    (22.546356896470648, 88.34243962154214),\n",
    "]\n",
    "labels = {\n",
    "    0 : \"St. Xavier's College\",\n",
    "    1 : \"Sealdah\",\n",
    "    2 : \"Phoolbagan\",\n",
    "    3 : \"Science City\",\n",
    "    4 : \"Lake Mall\",\n",
    "    5 : \"Victoria Memorial\",\n",
    "}\n",
    "xs = np.zeros(6)\n",
    "ys = np.zeros(6)\n",
    "i = 1\n",
    "for loc in locs:\n",
    "    ys[i] = (loc[0] - center[0]) * 500\n",
    "    xs[i] = (loc[1] - center[1]) * 500\n",
    "    i += 1\n",
    "\n",
    "print(xs)\n",
    "print(ys)"
   ]
  },
  {
   "cell_type": "code",
   "execution_count": 12,
   "id": "5358bbce",
   "metadata": {},
   "outputs": [
    {
     "name": "stdout",
     "output_type": "stream",
     "text": [
      "[[   0.          111.84298201  418.50638741  422.40545743  253.18368493\n",
      "    48.48523034]\n",
      " [ 111.84298201    0.          117.12744433  345.57155101  671.71266712\n",
      "   271.42139876]\n",
      " [ 418.50638741  117.12744433    0.          267.63507649 1158.7057026\n",
      "   727.70182009]\n",
      " [ 422.40545743  345.57155101  267.63507649    0.          691.60863243\n",
      "   733.88395265]\n",
      " [ 253.18368493  671.71266712 1158.7057026   691.60863243    0.\n",
      "   209.26732558]\n",
      " [  48.48523034  271.42139876  727.70182009  733.88395265  209.26732558\n",
      "     0.        ]]\n"
     ]
    }
   ],
   "source": [
    "inst = np.zeros((n + 1, n + 1))\n",
    "for ii in range(6):\n",
    "        for jj in range(ii + 1, 6):\n",
    "            inst[ii, jj] = (xs[ii] - xs[jj]) ** 2 + (ys[ii] - ys[jj]) ** 2\n",
    "            inst[jj, ii] = inst[ii, jj]\n",
    "        \n",
    "print(inst)"
   ]
  },
  {
   "cell_type": "code",
   "execution_count": null,
   "id": "fab22b38",
   "metadata": {},
   "outputs": [],
   "source": [
    "fqs = FullQuboSolver(n, m, inst)\n",
    "fqs.solve(solver='leap')"
   ]
  },
  {
   "cell_type": "code",
   "execution_count": null,
   "id": "c4462408",
   "metadata": {},
   "outputs": [],
   "source": [
    "fqs.visualize(xs, ys, labels)"
   ]
  }
 ],
 "metadata": {
  "kernelspec": {
   "display_name": "Python 3 (ipykernel)",
   "language": "python",
   "name": "python3"
  },
  "language_info": {
   "codemirror_mode": {
    "name": "ipython",
    "version": 3
   },
   "file_extension": ".py",
   "mimetype": "text/x-python",
   "name": "python",
   "nbconvert_exporter": "python",
   "pygments_lexer": "ipython3",
   "version": "3.9.7"
  }
 },
 "nbformat": 4,
 "nbformat_minor": 5
}
